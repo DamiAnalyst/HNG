{
  "nbformat": 4,
  "nbformat_minor": 0,
  "metadata": {
    "colab": {
      "provenance": []
    },
    "kernelspec": {
      "name": "python3",
      "display_name": "Python 3"
    },
    "language_info": {
      "name": "python"
    }
  },
  "cells": [
    {
      "cell_type": "code",
      "execution_count": 1,
      "metadata": {
        "colab": {
          "base_uri": "https://localhost:8080/"
        },
        "id": "VqUDmd1iElMi",
        "outputId": "d5134d51-b177-4e21-92d3-32a0329cd924"
      },
      "outputs": [
        {
          "output_type": "stream",
          "name": "stdout",
          "text": [
            "              precision    recall  f1-score   support\n",
            "\n",
            "           0       1.00      1.00      1.00         1\n",
            "\n",
            "    accuracy                           1.00         1\n",
            "   macro avg       1.00      1.00      1.00         1\n",
            "weighted avg       1.00      1.00      1.00         1\n",
            "\n",
            "Likely flood dates:\n",
            "0    2023-01-08\n",
            "2    2023-01-10\n",
            "8    2023-01-16\n",
            "11   2023-01-19\n",
            "15   2023-01-23\n",
            "16   2023-01-24\n",
            "17   2023-01-25\n",
            "18   2023-01-26\n",
            "19   2023-01-27\n",
            "22   2023-01-30\n",
            "25   2023-02-02\n",
            "26   2023-02-03\n",
            "27   2023-02-04\n",
            "28   2023-02-05\n",
            "Name: date, dtype: datetime64[ns]\n"
          ]
        }
      ],
      "source": [
        "import pandas as pd\n",
        "from sklearn.model_selection import train_test_split\n",
        "from sklearn.ensemble import RandomForestClassifier\n",
        "from sklearn.metrics import classification_report\n",
        "import numpy as np\n",
        "\n",
        "# Load datasets\n",
        "flood_data = pd.read_csv('/content/Historical_flood.csv')\n",
        "rainfall_data = pd.read_csv('/content/rainfall_demo.csv')\n",
        "river_levels = pd.read_csv('/content/river_demo.csv')\n",
        "urban_data = pd.read_csv('/content/urban.csv')\n",
        "\n",
        "# Renaming columns to avoid duplication during merge\n",
        "flood_data = flood_data.rename(columns={'date': 'flood_date', 'location': 'flood_location'})\n",
        "rainfall_data = rainfall_data.rename(columns={'date': 'rain_date', 'location': 'rain_location'})\n",
        "river_levels = river_levels.rename(columns={'date': 'river_date', 'location': 'river_location'})\n",
        "\n",
        "# Merging the datasets on the renamed columns\n",
        "data = flood_data.merge(rainfall_data, left_on=['flood_date', 'flood_location'], right_on=['rain_date', 'rain_location'])\n",
        "data = data.merge(river_levels, left_on=['flood_date', 'flood_location'], right_on=['river_date', 'river_location'])\n",
        "data = data.drop(columns=['rain_date', 'rain_location', 'river_date', 'river_location'])\n",
        "data = data.merge(urban_data, left_on='flood_location', right_on='location')\n",
        "data = data.drop(columns=['location'])\n",
        "data = data.rename(columns={'flood_date': 'date', 'flood_location': 'location'})\n",
        "\n",
        "# Create new features\n",
        "data['rolling_rainfall'] = data['rainfall'].rolling(window=3).mean()\n",
        "data['river_level_change'] = data['river_level'].diff()\n",
        "data = data.dropna()  # Drop rows with NaN values\n",
        "\n",
        "# Define features and target variable\n",
        "features = ['rainfall', 'river_level', 'urbanization_index', 'rolling_rainfall', 'river_level_change']\n",
        "target = 'flood'\n",
        "\n",
        "# Split data into training and testing sets\n",
        "X_train, X_test, y_train, y_test = train_test_split(data[features], data[target], test_size=0.2, random_state=42)\n",
        "\n",
        "# Train a Random Forest classifier\n",
        "model = RandomForestClassifier(n_estimators=100, random_state=42)\n",
        "model.fit(X_train, y_train)\n",
        "\n",
        "# Predict on the test set\n",
        "y_pred = model.predict(X_test)\n",
        "\n",
        "# Evaluate the model\n",
        "print(classification_report(y_test, y_pred))\n",
        "\n",
        "# Extend the dataset for future dates\n",
        "future_dates = pd.date_range(start='2023-01-08', periods=30, freq='D')  # Example future dates\n",
        "future_data = pd.DataFrame({\n",
        "    'date': future_dates,\n",
        "    'location': ['Lagos Mainland'] * len(future_dates),\n",
        "    'rainfall': np.random.randint(0, 100, len(future_dates)),  # Simulate future rainfall\n",
        "    'river_level': np.random.randint(4, 10, len(future_dates)),  # Simulate future river levels\n",
        "    'urbanization_index': [80] * len(future_dates)\n",
        "})\n",
        "\n",
        "# Preprocess future data similar to training data\n",
        "future_data['rolling_rainfall'] = future_data['rainfall'].rolling(window=3).mean().fillna(method='backfill')\n",
        "future_data['river_level_change'] = future_data['river_level'].diff().fillna(0)\n",
        "\n",
        "# Predict flood events for future dates\n",
        "future_data['flood_prediction'] = model.predict(future_data[features])\n",
        "\n",
        "# Identify likely flood dates\n",
        "likely_flood_dates = future_data[future_data['flood_prediction'] == 1]['date']\n",
        "\n",
        "print(\"Likely flood dates:\")\n",
        "print(likely_flood_dates)\n",
        "\n",
        "# Save predictions to a CSV file\n",
        "future_data.to_csv('future_flood_predictions.csv', index=False)\n"
      ]
    }
  ]
}